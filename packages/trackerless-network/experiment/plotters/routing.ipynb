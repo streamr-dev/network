{
 "cells": [
  {
   "cell_type": "code",
   "execution_count": 1,
   "id": "a741733d",
   "metadata": {},
   "outputs": [],
   "source": [
    "import numpy as np\n",
    "import pandas as pd\n",
    "import matplotlib.pyplot as plt\n",
    "import os\n",
    "import json"
   ]
  },
  {
   "cell_type": "code",
   "execution_count": 2,
   "id": "a907701a",
   "metadata": {},
   "outputs": [
    {
     "data": {
      "text/html": [
       "<div>\n",
       "<style scoped>\n",
       "    .dataframe tbody tr th:only-of-type {\n",
       "        vertical-align: middle;\n",
       "    }\n",
       "\n",
       "    .dataframe tbody tr th {\n",
       "        vertical-align: top;\n",
       "    }\n",
       "\n",
       "    .dataframe thead th {\n",
       "        text-align: right;\n",
       "    }\n",
       "</style>\n",
       "<table border=\"1\" class=\"dataframe\">\n",
       "  <thead>\n",
       "    <tr style=\"text-align: right;\">\n",
       "      <th></th>\n",
       "      <th>nodes</th>\n",
       "      <th>run</th>\n",
       "      <th>avgRtt</th>\n",
       "      <th>avgTimeToReceiver</th>\n",
       "      <th>avgTimeToRequestor</th>\n",
       "      <th>avgHop</th>\n",
       "    </tr>\n",
       "  </thead>\n",
       "  <tbody>\n",
       "    <tr>\n",
       "      <th>4</th>\n",
       "      <td>17</td>\n",
       "      <td>0</td>\n",
       "      <td>179.305147</td>\n",
       "      <td>92.275735</td>\n",
       "      <td>87.029412</td>\n",
       "      <td>1.077206</td>\n",
       "    </tr>\n",
       "    <tr>\n",
       "      <th>5</th>\n",
       "      <td>17</td>\n",
       "      <td>1</td>\n",
       "      <td>174.606618</td>\n",
       "      <td>89.250000</td>\n",
       "      <td>85.360294</td>\n",
       "      <td>1.080882</td>\n",
       "    </tr>\n",
       "    <tr>\n",
       "      <th>6</th>\n",
       "      <td>17</td>\n",
       "      <td>2</td>\n",
       "      <td>179.518382</td>\n",
       "      <td>91.805147</td>\n",
       "      <td>87.720588</td>\n",
       "      <td>1.099265</td>\n",
       "    </tr>\n",
       "    <tr>\n",
       "      <th>8</th>\n",
       "      <td>34</td>\n",
       "      <td>0</td>\n",
       "      <td>188.611408</td>\n",
       "      <td>95.921569</td>\n",
       "      <td>92.692513</td>\n",
       "      <td>1.270945</td>\n",
       "    </tr>\n",
       "    <tr>\n",
       "      <th>9</th>\n",
       "      <td>34</td>\n",
       "      <td>1</td>\n",
       "      <td>182.508913</td>\n",
       "      <td>92.550802</td>\n",
       "      <td>89.959002</td>\n",
       "      <td>1.278075</td>\n",
       "    </tr>\n",
       "    <tr>\n",
       "      <th>10</th>\n",
       "      <td>34</td>\n",
       "      <td>2</td>\n",
       "      <td>185.030303</td>\n",
       "      <td>93.893048</td>\n",
       "      <td>91.139929</td>\n",
       "      <td>1.282531</td>\n",
       "    </tr>\n",
       "    <tr>\n",
       "      <th>12</th>\n",
       "      <td>68</td>\n",
       "      <td>0</td>\n",
       "      <td>207.337796</td>\n",
       "      <td>104.448639</td>\n",
       "      <td>102.891352</td>\n",
       "      <td>1.483758</td>\n",
       "    </tr>\n",
       "    <tr>\n",
       "      <th>13</th>\n",
       "      <td>68</td>\n",
       "      <td>1</td>\n",
       "      <td>200.003731</td>\n",
       "      <td>101.555531</td>\n",
       "      <td>98.451054</td>\n",
       "      <td>1.472344</td>\n",
       "    </tr>\n",
       "    <tr>\n",
       "      <th>14</th>\n",
       "      <td>68</td>\n",
       "      <td>2</td>\n",
       "      <td>208.895742</td>\n",
       "      <td>110.717735</td>\n",
       "      <td>109.154522</td>\n",
       "      <td>1.473442</td>\n",
       "    </tr>\n",
       "    <tr>\n",
       "      <th>1</th>\n",
       "      <td>136</td>\n",
       "      <td>0</td>\n",
       "      <td>212.999782</td>\n",
       "      <td>108.553976</td>\n",
       "      <td>106.626362</td>\n",
       "      <td>1.593791</td>\n",
       "    </tr>\n",
       "    <tr>\n",
       "      <th>2</th>\n",
       "      <td>136</td>\n",
       "      <td>1</td>\n",
       "      <td>212.373475</td>\n",
       "      <td>109.490087</td>\n",
       "      <td>107.242157</td>\n",
       "      <td>1.575272</td>\n",
       "    </tr>\n",
       "    <tr>\n",
       "      <th>3</th>\n",
       "      <td>136</td>\n",
       "      <td>2</td>\n",
       "      <td>212.147549</td>\n",
       "      <td>107.343736</td>\n",
       "      <td>106.439325</td>\n",
       "      <td>1.588617</td>\n",
       "    </tr>\n",
       "    <tr>\n",
       "      <th>7</th>\n",
       "      <td>272</td>\n",
       "      <td>0</td>\n",
       "      <td>255.250828</td>\n",
       "      <td>130.227439</td>\n",
       "      <td>125.974631</td>\n",
       "      <td>1.927285</td>\n",
       "    </tr>\n",
       "    <tr>\n",
       "      <th>11</th>\n",
       "      <td>544</td>\n",
       "      <td>0</td>\n",
       "      <td>275.143328</td>\n",
       "      <td>140.384360</td>\n",
       "      <td>135.640417</td>\n",
       "      <td>2.107965</td>\n",
       "    </tr>\n",
       "    <tr>\n",
       "      <th>0</th>\n",
       "      <td>1088</td>\n",
       "      <td>0</td>\n",
       "      <td>315.166263</td>\n",
       "      <td>161.871701</td>\n",
       "      <td>153.887691</td>\n",
       "      <td>2.404434</td>\n",
       "    </tr>\n",
       "  </tbody>\n",
       "</table>\n",
       "</div>"
      ],
      "text/plain": [
       "    nodes  run      avgRtt  avgTimeToReceiver  avgTimeToRequestor    avgHop\n",
       "4      17    0  179.305147          92.275735           87.029412  1.077206\n",
       "5      17    1  174.606618          89.250000           85.360294  1.080882\n",
       "6      17    2  179.518382          91.805147           87.720588  1.099265\n",
       "8      34    0  188.611408          95.921569           92.692513  1.270945\n",
       "9      34    1  182.508913          92.550802           89.959002  1.278075\n",
       "10     34    2  185.030303          93.893048           91.139929  1.282531\n",
       "12     68    0  207.337796         104.448639          102.891352  1.483758\n",
       "13     68    1  200.003731         101.555531           98.451054  1.472344\n",
       "14     68    2  208.895742         110.717735          109.154522  1.473442\n",
       "1     136    0  212.999782         108.553976          106.626362  1.593791\n",
       "2     136    1  212.373475         109.490087          107.242157  1.575272\n",
       "3     136    2  212.147549         107.343736          106.439325  1.588617\n",
       "7     272    0  255.250828         130.227439          125.974631  1.927285\n",
       "11    544    0  275.143328         140.384360          135.640417  2.107965\n",
       "0    1088    0  315.166263         161.871701          153.887691  2.404434"
      ]
     },
     "execution_count": 2,
     "metadata": {},
     "output_type": "execute_result"
    }
   ],
   "source": [
    "file = open(\"/Users/santeri/network-monorepo/packages/trackerless-network/results/routing/2024-12-17T11-37-34-583Z/processed.csv\", \"r\")\n",
    "table = pd.read_csv(file, index_col=None, skipinitialspace=True)\n",
    "df = table.sort_values(['nodes'])\n",
    "df"
   ]
  },
  {
   "cell_type": "code",
   "execution_count": 3,
   "id": "6f2cf032",
   "metadata": {},
   "outputs": [
    {
     "name": "stdout",
     "output_type": "stream",
     "text": [
      "       run      avgRtt  avgTimeToReceiver  avgTimeToRequestor    avgHop\n",
      "nodes                                                                  \n",
      "17       1  177.810049          91.110294           86.703431  1.085784\n",
      "34       1  185.383541          94.121806           91.263815  1.277184\n",
      "68       1  205.412423         105.573968          103.498976  1.476514\n",
      "136      1  212.506935         108.462600          106.769281  1.585893\n",
      "272      0  255.250828         130.227439          125.974631  1.927285\n",
      "544      0  275.143328         140.384360          135.640417  2.107965\n",
      "1088     0  315.166263         161.871701          153.887691  2.404434\n"
     ]
    }
   ],
   "source": [
    "grouped = df.groupby(['nodes'])\n",
    "avg = grouped.mean()\n",
    "print(avg)"
   ]
  },
  {
   "cell_type": "code",
   "execution_count": 4,
   "id": "10941829",
   "metadata": {},
   "outputs": [
    {
     "data": {
      "image/png": "[encoded data removed]",
      "text/plain": [
       "<Figure size 432x288 with 1 Axes>"
      ]
     },
     "metadata": {
      "needs_background": "light"
     },
     "output_type": "display_data"
    }
   ],
   "source": [
    "f, ax = plt.subplots(1)\n",
    "xdata = avg.axes[0].tolist()\n",
    "ydata = avg['avgRtt']\n",
    "ax.set_title('Mean Routed Request RTT')\n",
    "ax.set_xlabel('Number of nodes')\n",
    "ax.set_ylabel('RTT in ms')\n",
    "ax.plot(xdata, ydata)\n",
    "ax.set_ylim(ymin=0)\n",
    "plt.show(f)"
   ]
  },
  {
   "cell_type": "code",
   "execution_count": 5,
   "id": "4febe768",
   "metadata": {},
   "outputs": [
    {
     "data": {
      "image/png": "[encoded data removed]",
      "text/plain": [
       "<Figure size 432x288 with 1 Axes>"
      ]
     },
     "metadata": {
      "needs_background": "light"
     },
     "output_type": "display_data"
    }
   ],
   "source": [
    "f, ax = plt.subplots(1)\n",
    "xdata = avg.axes[0].tolist()\n",
    "ydata = avg['avgHop']\n",
    "ax.set_title('Mean Number of Hops for a Routed Message')\n",
    "ax.set_xlabel('Number of nodes')\n",
    "ax.set_ylabel('Number of hops')\n",
    "ax.plot(xdata, ydata)\n",
    "ax.set_ylim(ymin=0)\n",
    "plt.show(f)"
   ]
  },
  {
   "cell_type": "code",
   "execution_count": null,
   "id": "f23b9559",
   "metadata": {},
   "outputs": [],
   "source": []
  }
 ],
 "metadata": {
  "kernelspec": {
   "display_name": "Python 3",
   "language": "python",
   "name": "python3"
  },
  "language_info": {
   "codemirror_mode": {
    "name": "ipython",
    "version": 3
   },
   "file_extension": ".py",
   "mimetype": "text/x-python",
   "name": "python",
   "nbconvert_exporter": "python",
   "pygments_lexer": "ipython3",
   "version": "3.7.8"
  }
 },
 "nbformat": 4,
 "nbformat_minor": 5
}
