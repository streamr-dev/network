{
 "cells": [
  {
   "cell_type": "code",
   "execution_count": 1,
   "id": "8a769a92",
   "metadata": {},
   "outputs": [],
   "source": [
    "import numpy as np\n",
    "import pandas as pd\n",
    "import matplotlib.pyplot as plt\n",
    "import os\n",
    "import json"
   ]
  },
  {
   "cell_type": "code",
   "execution_count": 2,
   "id": "9570fc77",
   "metadata": {},
   "outputs": [
    {
     "data": {
      "text/html": [
       "<div>\n",
       "<style scoped>\n",
       "    .dataframe tbody tr th:only-of-type {\n",
       "        vertical-align: middle;\n",
       "    }\n",
       "\n",
       "    .dataframe tbody tr th {\n",
       "        vertical-align: top;\n",
       "    }\n",
       "\n",
       "    .dataframe thead th {\n",
       "        text-align: right;\n",
       "    }\n",
       "</style>\n",
       "<table border=\"1\" class=\"dataframe\">\n",
       "  <thead>\n",
       "    <tr style=\"text-align: right;\">\n",
       "      <th></th>\n",
       "      <th>nodeCount</th>\n",
       "      <th>timeToData</th>\n",
       "      <th>layer1Join</th>\n",
       "      <th>fetch</th>\n",
       "      <th>firstNeighbor</th>\n",
       "    </tr>\n",
       "  </thead>\n",
       "  <tbody>\n",
       "    <tr>\n",
       "      <th>0</th>\n",
       "      <td>1</td>\n",
       "      <td>479</td>\n",
       "      <td>555</td>\n",
       "      <td>365</td>\n",
       "      <td>495</td>\n",
       "    </tr>\n",
       "    <tr>\n",
       "      <th>1</th>\n",
       "      <td>2</td>\n",
       "      <td>1094</td>\n",
       "      <td>398</td>\n",
       "      <td>186</td>\n",
       "      <td>1012</td>\n",
       "    </tr>\n",
       "    <tr>\n",
       "      <th>2</th>\n",
       "      <td>3</td>\n",
       "      <td>657</td>\n",
       "      <td>856</td>\n",
       "      <td>455</td>\n",
       "      <td>655</td>\n",
       "    </tr>\n",
       "    <tr>\n",
       "      <th>3</th>\n",
       "      <td>4</td>\n",
       "      <td>664</td>\n",
       "      <td>641</td>\n",
       "      <td>455</td>\n",
       "      <td>574</td>\n",
       "    </tr>\n",
       "    <tr>\n",
       "      <th>4</th>\n",
       "      <td>5</td>\n",
       "      <td>1069</td>\n",
       "      <td>955</td>\n",
       "      <td>373</td>\n",
       "      <td>971</td>\n",
       "    </tr>\n",
       "    <tr>\n",
       "      <th>...</th>\n",
       "      <td>...</td>\n",
       "      <td>...</td>\n",
       "      <td>...</td>\n",
       "      <td>...</td>\n",
       "      <td>...</td>\n",
       "    </tr>\n",
       "    <tr>\n",
       "      <th>1082</th>\n",
       "      <td>1083</td>\n",
       "      <td>865</td>\n",
       "      <td>2463</td>\n",
       "      <td>100</td>\n",
       "      <td>746</td>\n",
       "    </tr>\n",
       "    <tr>\n",
       "      <th>1083</th>\n",
       "      <td>1084</td>\n",
       "      <td>474</td>\n",
       "      <td>3002</td>\n",
       "      <td>229</td>\n",
       "      <td>357</td>\n",
       "    </tr>\n",
       "    <tr>\n",
       "      <th>1084</th>\n",
       "      <td>1085</td>\n",
       "      <td>449</td>\n",
       "      <td>5849</td>\n",
       "      <td>182</td>\n",
       "      <td>310</td>\n",
       "    </tr>\n",
       "    <tr>\n",
       "      <th>1085</th>\n",
       "      <td>1086</td>\n",
       "      <td>782</td>\n",
       "      <td>2001</td>\n",
       "      <td>106</td>\n",
       "      <td>633</td>\n",
       "    </tr>\n",
       "    <tr>\n",
       "      <th>1086</th>\n",
       "      <td>1087</td>\n",
       "      <td>628</td>\n",
       "      <td>6118</td>\n",
       "      <td>118</td>\n",
       "      <td>462</td>\n",
       "    </tr>\n",
       "  </tbody>\n",
       "</table>\n",
       "<p>1087 rows × 5 columns</p>\n",
       "</div>"
      ],
      "text/plain": [
       "      nodeCount  timeToData  layer1Join  fetch  firstNeighbor\n",
       "0             1         479         555    365            495\n",
       "1             2        1094         398    186           1012\n",
       "2             3         657         856    455            655\n",
       "3             4         664         641    455            574\n",
       "4             5        1069         955    373            971\n",
       "...         ...         ...         ...    ...            ...\n",
       "1082       1083         865        2463    100            746\n",
       "1083       1084         474        3002    229            357\n",
       "1084       1085         449        5849    182            310\n",
       "1085       1086         782        2001    106            633\n",
       "1086       1087         628        6118    118            462\n",
       "\n",
       "[1087 rows x 5 columns]"
      ]
     },
     "execution_count": 2,
     "metadata": {},
     "output_type": "execute_result"
    }
   ],
   "source": [
    "file = open(\"/Users/santeri/network-monorepo/packages/trackerless-network/results/timetodata/2024-12-19T09-46-43-052Z/processed.csv\", \"r\")\n",
    "table = pd.read_csv(file, index_col=None, skipinitialspace=True)\n",
    "df = table.sort_values(['nodeCount'])\n",
    "df"
   ]
  },
  {
   "cell_type": "code",
   "execution_count": 6,
   "id": "b42f6293",
   "metadata": {},
   "outputs": [
    {
     "data": {
      "image/png": "[encoded data removed]",
      "text/plain": [
       "<Figure size 432x288 with 1 Axes>"
      ]
     },
     "metadata": {
      "needs_background": "light"
     },
     "output_type": "display_data"
    },
    {
     "data": {
      "text/plain": [
       "<Figure size 1080x720 with 0 Axes>"
      ]
     },
     "metadata": {},
     "output_type": "display_data"
    }
   ],
   "source": [
    "fig, ax = plt.subplots(1, figsize=(15, 10))\n",
    "plt.scatter(df['nodeCount'], df['timeToData'], s=2)\n",
    "plt.title(\"Time to Data\", fontsize=18)\n",
    "plt.xlabel(\"Number of nodes\", fontsize=13)\n",
    "plt.ylabel(\"Time in ms\", fontsize=13)\n",
    "plt.show()"
   ]
  },
  {
   "cell_type": "code",
   "execution_count": null,
   "id": "970aaf4b",
   "metadata": {},
   "outputs": [],
   "source": [
    "plt.scatter(df['nodeCount'], df['fetch'], s=2)\n",
    "plt.title(\"DHT Fetch Query Times\")\n",
    "plt.xlabel(\"Number of nodes\")\n",
    "plt.ylabel(\"Time in ms\")\n",
    "plt.show()"
   ]
  },
  {
   "cell_type": "code",
   "execution_count": null,
   "id": "45855ae0",
   "metadata": {},
   "outputs": [],
   "source": [
    "plt.scatter(df['nodeCount'], df['layer1Join'], s=2)\n",
    "plt.title(\"Discovery Layer DHT Join Times\")\n",
    "plt.xlabel(\"Number of nodes\")\n",
    "plt.ylabel(\"Time in ms\")\n",
    "plt.show()"
   ]
  },
  {
   "cell_type": "code",
   "execution_count": null,
   "id": "7ca505d8",
   "metadata": {},
   "outputs": [],
   "source": [
    "plt.scatter(df['nodeCount'], df['firstNeighbor'], s=2)\n",
    "plt.title(\"Time to First Neighbor in Content Delivery Layer\")\n",
    "plt.xlabel(\"Number of nodes\")\n",
    "plt.ylabel(\"Time in ms\")\n",
    "plt.show()"
   ]
  },
  {
   "cell_type": "code",
   "execution_count": null,
   "id": "2c4630b0",
   "metadata": {},
   "outputs": [],
   "source": []
  }
 ],
 "metadata": {
  "kernelspec": {
   "display_name": "Python 3",
   "language": "python",
   "name": "python3"
  },
  "language_info": {
   "codemirror_mode": {
    "name": "ipython",
    "version": 3
   },
   "file_extension": ".py",
   "mimetype": "text/x-python",
   "name": "python",
   "nbconvert_exporter": "python",
   "pygments_lexer": "ipython3",
   "version": "3.7.8"
  }
 },
 "nbformat": 4,
 "nbformat_minor": 5
}
