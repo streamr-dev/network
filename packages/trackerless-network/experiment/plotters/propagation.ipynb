{
 "cells": [
  {
   "cell_type": "code",
   "execution_count": 1,
   "id": "07b440e1",
   "metadata": {},
   "outputs": [],
   "source": [
    "import numpy as np\n",
    "import pandas as pd\n",
    "import matplotlib.pyplot as plt\n",
    "import os\n",
    "import json\n"
   ]
  },
  {
   "cell_type": "code",
   "execution_count": 2,
   "id": "a9af89ee",
   "metadata": {},
   "outputs": [
    {
     "ename": "FileNotFoundError",
     "evalue": "[Errno 2] No such file or directory: '/Users/santeri/network-monorepo/packages/trackerless-network/results/propagation/2000-nodes/processed.csv'",
     "output_type": "error",
     "traceback": [
      "\u001b[0;31m---------------------------------------------------------------------------\u001b[0m",
      "\u001b[0;31mFileNotFoundError\u001b[0m                         Traceback (most recent call last)",
      "Cell \u001b[0;32mIn[2], line 1\u001b[0m\n\u001b[0;32m----> 1\u001b[0m file \u001b[38;5;241m=\u001b[39m \u001b[38;5;28;43mopen\u001b[39;49m\u001b[43m(\u001b[49m\u001b[38;5;124;43m\"\u001b[39;49m\u001b[38;5;124;43m/Users/santeri/network-monorepo/packages/trackerless-network/results/propagation/2000-nodes/processed.csv\u001b[39;49m\u001b[38;5;124;43m\"\u001b[39;49m\u001b[43m,\u001b[49m\u001b[43m \u001b[49m\u001b[38;5;124;43m\"\u001b[39;49m\u001b[38;5;124;43mr\u001b[39;49m\u001b[38;5;124;43m\"\u001b[39;49m\u001b[43m)\u001b[49m\n\u001b[1;32m      2\u001b[0m table \u001b[38;5;241m=\u001b[39m pd\u001b[38;5;241m.\u001b[39mread_csv(file, index_col\u001b[38;5;241m=\u001b[39m\u001b[38;5;28;01mNone\u001b[39;00m, skipinitialspace\u001b[38;5;241m=\u001b[39m\u001b[38;5;28;01mTrue\u001b[39;00m)\n\u001b[1;32m      3\u001b[0m df \u001b[38;5;241m=\u001b[39m table\u001b[38;5;241m.\u001b[39msort_values([\u001b[38;5;124m'\u001b[39m\u001b[38;5;124mnodes\u001b[39m\u001b[38;5;124m'\u001b[39m])\n",
      "File \u001b[0;32m/usr/local/lib/python3.13/site-packages/IPython/core/interactiveshell.py:324\u001b[0m, in \u001b[0;36m_modified_open\u001b[0;34m(file, *args, **kwargs)\u001b[0m\n\u001b[1;32m    317\u001b[0m \u001b[38;5;28;01mif\u001b[39;00m file \u001b[38;5;129;01min\u001b[39;00m {\u001b[38;5;241m0\u001b[39m, \u001b[38;5;241m1\u001b[39m, \u001b[38;5;241m2\u001b[39m}:\n\u001b[1;32m    318\u001b[0m     \u001b[38;5;28;01mraise\u001b[39;00m \u001b[38;5;167;01mValueError\u001b[39;00m(\n\u001b[1;32m    319\u001b[0m         \u001b[38;5;124mf\u001b[39m\u001b[38;5;124m\"\u001b[39m\u001b[38;5;124mIPython won\u001b[39m\u001b[38;5;124m'\u001b[39m\u001b[38;5;124mt let you open fd=\u001b[39m\u001b[38;5;132;01m{\u001b[39;00mfile\u001b[38;5;132;01m}\u001b[39;00m\u001b[38;5;124m by default \u001b[39m\u001b[38;5;124m\"\u001b[39m\n\u001b[1;32m    320\u001b[0m         \u001b[38;5;124m\"\u001b[39m\u001b[38;5;124mas it is likely to crash IPython. If you know what you are doing, \u001b[39m\u001b[38;5;124m\"\u001b[39m\n\u001b[1;32m    321\u001b[0m         \u001b[38;5;124m\"\u001b[39m\u001b[38;5;124myou can use builtins\u001b[39m\u001b[38;5;124m'\u001b[39m\u001b[38;5;124m open.\u001b[39m\u001b[38;5;124m\"\u001b[39m\n\u001b[1;32m    322\u001b[0m     )\n\u001b[0;32m--> 324\u001b[0m \u001b[38;5;28;01mreturn\u001b[39;00m \u001b[43mio_open\u001b[49m\u001b[43m(\u001b[49m\u001b[43mfile\u001b[49m\u001b[43m,\u001b[49m\u001b[43m \u001b[49m\u001b[38;5;241;43m*\u001b[39;49m\u001b[43margs\u001b[49m\u001b[43m,\u001b[49m\u001b[43m \u001b[49m\u001b[38;5;241;43m*\u001b[39;49m\u001b[38;5;241;43m*\u001b[39;49m\u001b[43mkwargs\u001b[49m\u001b[43m)\u001b[49m\n",
      "\u001b[0;31mFileNotFoundError\u001b[0m: [Errno 2] No such file or directory: '/Users/santeri/network-monorepo/packages/trackerless-network/results/propagation/2000-nodes/processed.csv'"
     ]
    }
   ],
   "source": [
    "file = open(\"/Users/santeri/network-monorepo/packages/trackerless-network/results/propagation/2000-nodes/processed.csv\", \"r\")\n",
    "table = pd.read_csv(file, index_col=None, skipinitialspace=True)\n",
    "df = table.sort_values(['nodes'])\n",
    "df\n",
    "\n",
    "meanUnderlayDelay = 75.11404595336083"
   ]
  },
  {
   "cell_type": "code",
   "execution_count": null,
   "id": "6aaa0cb9",
   "metadata": {},
   "outputs": [],
   "source": [
    "grouped = df.groupby(['nodes'])\n",
    "avg = grouped.mean()\n",
    "print(avg)"
   ]
  },
  {
   "cell_type": "code",
   "execution_count": null,
   "id": "b6f03a51",
   "metadata": {},
   "outputs": [],
   "source": [
    "f, ax = plt.subplots(1, figsize=(15, 10))\n",
    "xdata = avg.axes[0].tolist()\n",
    "ydata = avg['propagationTime']\n",
    "ax.plot(xdata, ydata)\n",
    "ax.set_title('Mean Message Propagation Delay', fontsize=18)\n",
    "ax.set_xlabel('Number of nodes', fontsize=13)\n",
    "ax.set_ylabel('Time in ms', fontsize=13)\n",
    "ax.set_ylim(ymin=0)\n",
    "plt.show(f)"
   ]
  },
  {
   "cell_type": "code",
   "execution_count": null,
   "id": "e4b7a881",
   "metadata": {},
   "outputs": [],
   "source": [
    "f, ax = plt.subplots(1, figsize=(15, 10))\n",
    "xdata = avg.axes[0].tolist()\n",
    "ydata = avg['hops']\n",
    "ax.plot(xdata, ydata)\n",
    "ax.set_title('Mean Number of Hops', fontsize=18)\n",
    "ax.set_xlabel('Number of nodes', fontsize=13)\n",
    "ax.set_ylabel('Number of Hops', fontsize=13)\n",
    "ax.set_ylim(ymin=0)\n",
    "plt.show(f)"
   ]
  },
  {
   "cell_type": "code",
   "execution_count": null,
   "id": "a82f46d3",
   "metadata": {},
   "outputs": [],
   "source": [
    "f, ax = plt.subplots(1, figsize=(15, 10))\n",
    "xdata = avg.axes[0].tolist()\n",
    "ydata = avg['maxHops']\n",
    "ax.plot(xdata, ydata)\n",
    "ax.set_title('Max Number of Hops', fontsize=18)\n",
    "ax.set_xlabel('Number of nodes', fontsize=13)\n",
    "ax.set_ylabel('Number of Hops', fontsize=13)\n",
    "ax.set_ylim(ymin=0)\n",
    "plt.show(f)"
   ]
  },
  {
   "cell_type": "code",
   "execution_count": null,
   "id": "fc55bc54",
   "metadata": {},
   "outputs": [],
   "source": [
    "f, ax = plt.subplots(1, figsize=(15, 10))\n",
    "xdata = avg.axes[0].tolist()\n",
    "ydata = avg['maxPropagationTime']\n",
    "ax.plot(xdata, ydata)\n",
    "ax.set_title('Max Message Propagation Delay', fontsize=18)\n",
    "ax.set_xlabel('Number of nodes', fontsize=13)\n",
    "ax.set_ylabel('Time in ms', fontsize=13)\n",
    "ax.set_ylim(ymin=0)\n",
    "plt.show(f)"
   ]
  },
  {
   "cell_type": "code",
   "execution_count": null,
   "id": "15cc0726",
   "metadata": {},
   "outputs": [],
   "source": [
    "f, ax = plt.subplots(1, figsize=(15, 10))\n",
    "xdata = avg.axes[0].tolist()\n",
    "ydata = avg['propagationTime'] / meanUnderlayDelay\n",
    "ax.plot(xdata, ydata)\n",
    "ax.set_title('Mean Relative Delay Penalty', fontsize=18)\n",
    "ax.set_xlabel('Number of nodes', fontsize=13)\n",
    "ax.set_ylabel('Relative Delay Penalty', fontsize=13)\n",
    "ax.set_ylim(ymin=0)\n",
    "plt.show(f)"
   ]
  },
  {
   "cell_type": "code",
   "execution_count": null,
   "id": "13f4d74a",
   "metadata": {},
   "outputs": [],
   "source": [
    "f, ax = plt.subplots(1, figsize=(15, 10))\n",
    "xdata = avg.axes[0].tolist()\n",
    "ydata = avg['maxPropagationTime'] / meanUnderlayDelay\n",
    "ax.plot(xdata, ydata)\n",
    "ax.set_title('Max Relative Delay Penalty', fontsize=18)\n",
    "ax.set_xlabel('Number of nodes', fontsize=13)\n",
    "ax.set_ylabel('Relative Delay Penalty', fontsize=13)\n",
    "ax.set_ylim(ymin=0)\n",
    "plt.show(f)"
   ]
  }
 ],
 "metadata": {
  "kernelspec": {
   "display_name": "Python 3 (ipykernel)",
   "language": "python",
   "name": "python3"
  },
  "language_info": {
   "codemirror_mode": {
    "name": "ipython",
    "version": 3
   },
   "file_extension": ".py",
   "mimetype": "text/x-python",
   "name": "python",
   "nbconvert_exporter": "python",
   "pygments_lexer": "ipython3",
   "version": "3.13.2"
  }
 },
 "nbformat": 4,
 "nbformat_minor": 5
}
